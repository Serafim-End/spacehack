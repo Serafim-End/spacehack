{
 "cells": [
  {
   "cell_type": "code",
   "execution_count": 1,
   "metadata": {},
   "outputs": [
    {
     "name": "stdout",
     "output_type": "stream",
     "text": [
      "Populating the interactive namespace from numpy and matplotlib\n"
     ]
    }
   ],
   "source": [
    "import xgboost as xgb\n",
    "\n",
    "import pandas as pd\n",
    "import pickle\n",
    "import numpy as np\n",
    "import math\n",
    "import pymongo\n",
    "\n",
    "%pylab inline\n",
    "pd.set_option('display.mpl_style', 'default')\n",
    "figsize(12, 9)\n",
    "pd.set_option('display.max_columns', None)\n",
    "import matplotlib.pyplot as plt\n",
    "from pymongo import MongoClient, DESCENDING\n",
    "\n",
    "# from pymongo.objectid import ObjectId\n",
    "import bson\n",
    "\n",
    "import os\n",
    "import json"
   ]
  },
  {
   "cell_type": "code",
   "execution_count": 2,
   "metadata": {},
   "outputs": [],
   "source": [
    "client = MongoClient()\n",
    "db = client.dataframe"
   ]
  },
  {
   "cell_type": "code",
   "execution_count": 3,
   "metadata": {},
   "outputs": [
    {
     "data": {
      "text/plain": [
       "11637"
      ]
     },
     "execution_count": 3,
     "metadata": {},
     "output_type": "execute_result"
    }
   ],
   "source": [
    "db.embeddings.count()"
   ]
  },
  {
   "cell_type": "code",
   "execution_count": 4,
   "metadata": {},
   "outputs": [],
   "source": [
    "from bson.objectid import ObjectId"
   ]
  },
  {
   "cell_type": "code",
   "execution_count": 5,
   "metadata": {},
   "outputs": [],
   "source": [
    "embs = []\n",
    "\n",
    "for e in db.embeddings.find({}):\n",
    "    for vs in e.values():\n",
    "        if isinstance(vs, ObjectId):\n",
    "            continue\n",
    "        else:\n",
    "            ev = vs\n",
    "    \n",
    "    embs.append(ev)"
   ]
  },
  {
   "cell_type": "code",
   "execution_count": 6,
   "metadata": {},
   "outputs": [],
   "source": [
    "embs = np.array(embs)"
   ]
  },
  {
   "cell_type": "code",
   "execution_count": 7,
   "metadata": {
    "scrolled": false
   },
   "outputs": [
    {
     "data": {
      "text/plain": [
       "(11637, 379)"
      ]
     },
     "execution_count": 7,
     "metadata": {},
     "output_type": "execute_result"
    }
   ],
   "source": [
    "embs.shape"
   ]
  },
  {
   "cell_type": "code",
   "execution_count": null,
   "metadata": {
    "collapsed": true
   },
   "outputs": [],
   "source": []
  },
  {
   "cell_type": "code",
   "execution_count": null,
   "metadata": {},
   "outputs": [],
   "source": []
  },
  {
   "cell_type": "code",
   "execution_count": 9,
   "metadata": {
    "collapsed": true
   },
   "outputs": [],
   "source": [
    "columns = range(embs.shape[1])\n",
    "columns[78] = 'sex'\n",
    "columns[0] = 'user_id'"
   ]
  },
  {
   "cell_type": "code",
   "execution_count": 10,
   "metadata": {},
   "outputs": [],
   "source": [
    "df = pd.DataFrame(data=embs, columns=columns)"
   ]
  },
  {
   "cell_type": "code",
   "execution_count": 11,
   "metadata": {},
   "outputs": [
    {
     "data": {
      "text/plain": [
       "'/root/in_relaiton'"
      ]
     },
     "execution_count": 11,
     "metadata": {},
     "output_type": "execute_result"
    }
   ],
   "source": [
    "os.getcwd()"
   ]
  },
  {
   "cell_type": "code",
   "execution_count": 12,
   "metadata": {},
   "outputs": [],
   "source": [
    "# df.to_csv(path_or_buf=os.path.join(os.getcwd(), 'df.csv'))"
   ]
  },
  {
   "cell_type": "code",
   "execution_count": 13,
   "metadata": {},
   "outputs": [],
   "source": [
    "anti_set = pd.concat([df[df['sex']==u'4'], df[df['sex']==u'2'],  df[df['sex']==u'3']])"
   ]
  },
  {
   "cell_type": "code",
   "execution_count": 200,
   "metadata": {},
   "outputs": [],
   "source": [
    "# anti_set.to_csv()"
   ]
  },
  {
   "cell_type": "code",
   "execution_count": null,
   "metadata": {
    "collapsed": true
   },
   "outputs": [],
   "source": []
  },
  {
   "cell_type": "markdown",
   "metadata": {},
   "source": [
    "# PREDICTION_MODEL"
   ]
  },
  {
   "cell_type": "code",
   "execution_count": 14,
   "metadata": {
    "collapsed": true
   },
   "outputs": [],
   "source": [
    "from sklearn.model_selection import train_test_split"
   ]
  },
  {
   "cell_type": "code",
   "execution_count": 15,
   "metadata": {
    "collapsed": true
   },
   "outputs": [],
   "source": [
    "df_prediction = df.copy()"
   ]
  },
  {
   "cell_type": "code",
   "execution_count": 16,
   "metadata": {
    "collapsed": true
   },
   "outputs": [],
   "source": [
    "y = df_prediction[['user_id', 'sex']].set_index('user_id')"
   ]
  },
  {
   "cell_type": "code",
   "execution_count": 17,
   "metadata": {
    "collapsed": true
   },
   "outputs": [],
   "source": [
    "y['sex'] = y.sex.apply(lambda x: 1 if x in [u'4', u'3', u'2'] else 0)"
   ]
  },
  {
   "cell_type": "code",
   "execution_count": 18,
   "metadata": {},
   "outputs": [],
   "source": [
    "del df_prediction['sex']"
   ]
  },
  {
   "cell_type": "code",
   "execution_count": 19,
   "metadata": {},
   "outputs": [],
   "source": [
    "df_prediction = df_prediction.set_index('user_id')"
   ]
  },
  {
   "cell_type": "code",
   "execution_count": 92,
   "metadata": {},
   "outputs": [],
   "source": [
    "df_prediction = df_prediction.astype(np.float64)"
   ]
  },
  {
   "cell_type": "code",
   "execution_count": 20,
   "metadata": {},
   "outputs": [],
   "source": [
    "X_train, X_test, y_train, y_test = train_test_split(df_prediction, y, test_size=0.2, random_state=42)"
   ]
  },
  {
   "cell_type": "code",
   "execution_count": 21,
   "metadata": {},
   "outputs": [
    {
     "data": {
      "text/plain": [
       "(9309, 377)"
      ]
     },
     "execution_count": 21,
     "metadata": {},
     "output_type": "execute_result"
    }
   ],
   "source": [
    "X_train.shape"
   ]
  },
  {
   "cell_type": "code",
   "execution_count": 25,
   "metadata": {},
   "outputs": [],
   "source": [
    "def tr_te_xgb(X_train, X_test, y_train, y_test):\n",
    "    dtrain = xgb.DMatrix(X_train.as_matrix(), label=y_train)\n",
    "    dtest = xgb.DMatrix(X_test.as_matrix(), label=y_test)\n",
    "    return dtrain, dtest\n"
   ]
  },
  {
   "cell_type": "code",
   "execution_count": 28,
   "metadata": {
    "collapsed": true
   },
   "outputs": [],
   "source": [
    "d_train, d_test = tr_te_xgb(X_train, X_test, y_train, y_test)"
   ]
  },
  {
   "cell_type": "code",
   "execution_count": 31,
   "metadata": {},
   "outputs": [
    {
     "data": {
      "text/plain": [
       "<xgboost.core.DMatrix at 0x7fe295d3c1d0>"
      ]
     },
     "execution_count": 31,
     "metadata": {},
     "output_type": "execute_result"
    }
   ],
   "source": [
    "d_test"
   ]
  },
  {
   "cell_type": "code",
   "execution_count": 55,
   "metadata": {},
   "outputs": [
    {
     "name": "stdout",
     "output_type": "stream",
     "text": [
      "[0]\teval-auc:0.646336\ttrain-auc:0.682034\n",
      "[1]\teval-auc:0.662752\ttrain-auc:0.699227\n",
      "[2]\teval-auc:0.667777\ttrain-auc:0.708375\n",
      "[3]\teval-auc:0.671234\ttrain-auc:0.715954\n",
      "[4]\teval-auc:0.695765\ttrain-auc:0.736447\n",
      "[5]\teval-auc:0.69672\ttrain-auc:0.738415\n",
      "[6]\teval-auc:0.700993\ttrain-auc:0.745762\n",
      "[7]\teval-auc:0.703786\ttrain-auc:0.746115\n",
      "[8]\teval-auc:0.700814\ttrain-auc:0.753005\n",
      "[9]\teval-auc:0.701515\ttrain-auc:0.754229\n",
      "[10]\teval-auc:0.699773\ttrain-auc:0.763987\n",
      "[11]\teval-auc:0.705641\ttrain-auc:0.768788\n",
      "[12]\teval-auc:0.70677\ttrain-auc:0.771538\n",
      "[13]\teval-auc:0.713109\ttrain-auc:0.777085\n",
      "[14]\teval-auc:0.715968\ttrain-auc:0.780175\n",
      "[15]\teval-auc:0.715603\ttrain-auc:0.781892\n",
      "[16]\teval-auc:0.716464\ttrain-auc:0.783465\n",
      "[17]\teval-auc:0.714874\ttrain-auc:0.78592\n",
      "[18]\teval-auc:0.713877\ttrain-auc:0.787246\n",
      "[19]\teval-auc:0.715176\ttrain-auc:0.788724\n",
      "CPU times: user 5.86 s, sys: 16 ms, total: 5.88 s\n",
      "Wall time: 1.47 s\n"
     ]
    }
   ],
   "source": [
    "\n",
    "param = {\n",
    "    'bst:max_depth':5,\n",
    "    'bst:eta':1,\n",
    "    'gamma': 2.,\n",
    "    'scale_pos_weight':0.8,\n",
    "    'lambda': 2.,\n",
    "    'alpha':2.,\n",
    "    'booster': 'dart',\n",
    "    'objective':'binary:logistic' \n",
    "}\n",
    "\n",
    "param['eval_metric'] = 'auc'\n",
    "param['nthread'] = 4\n",
    "\n",
    "evallist  = [(dtest,'eval'), (dtrain,'train')]\n",
    "\n",
    "num_round = 20\n",
    "bst = xgb.train(param, d_train, num_round, evallist, )\n",
    "preds = bst.predict(d_test, ntree_limit=num_round)\n"
   ]
  },
  {
   "cell_type": "code",
   "execution_count": 40,
   "metadata": {},
   "outputs": [
    {
     "data": {
      "text/plain": [
       "<matplotlib.axes._subplots.AxesSubplot at 0x7fe2943f7fd0>"
      ]
     },
     "execution_count": 40,
     "metadata": {},
     "output_type": "execute_result"
    },
    {
     "data": {
      "image/png": "[encoded data removed]",
      "text/plain": [
       "<matplotlib.figure.Figure at 0x7fe298165c90>"
      ]
     },
     "metadata": {},
     "output_type": "display_data"
    }
   ],
   "source": [
    "xgb.plot_importance(bst)"
   ]
  },
  {
   "cell_type": "code",
   "execution_count": 57,
   "metadata": {},
   "outputs": [],
   "source": [
    "# df_prediction"
   ]
  },
  {
   "cell_type": "code",
   "execution_count": 59,
   "metadata": {
    "collapsed": true
   },
   "outputs": [],
   "source": [
    "# bst.save_model('in_relation.model')"
   ]
  },
  {
   "cell_type": "code",
   "execution_count": 68,
   "metadata": {},
   "outputs": [],
   "source": [
    "pks = pickle.dump(bst, file=open('in_relation_xgb.model', 'a'))"
   ]
  },
  {
   "cell_type": "code",
   "execution_count": 66,
   "metadata": {},
   "outputs": [],
   "source": [
    "# print pks"
   ]
  },
  {
   "cell_type": "code",
   "execution_count": 70,
   "metadata": {},
   "outputs": [],
   "source": [
    "# load model and data in\n",
    "bst_loaded = pickle.load(file=open('in_relation_xgb.model'))"
   ]
  },
  {
   "cell_type": "code",
   "execution_count": 71,
   "metadata": {},
   "outputs": [
    {
     "data": {
      "text/plain": [
       "array([ 0.02759831,  0.05684074,  0.06788218, ...,  0.06788218,\n",
       "        0.10331845,  0.11651848], dtype=float32)"
      ]
     },
     "execution_count": 71,
     "metadata": {},
     "output_type": "execute_result"
    }
   ],
   "source": [
    "bst_loaded.predict(d_test)"
   ]
  },
  {
   "cell_type": "code",
   "execution_count": 72,
   "metadata": {},
   "outputs": [
    {
     "data": {
      "text/plain": [
       "True"
      ]
     },
     "execution_count": 72,
     "metadata": {},
     "output_type": "execute_result"
    }
   ],
   "source": [
    "'sex' in df"
   ]
  },
  {
   "cell_type": "code",
   "execution_count": 74,
   "metadata": {
    "collapsed": true
   },
   "outputs": [],
   "source": [
    "from sklearn.decomposition import PCA"
   ]
  },
  {
   "cell_type": "code",
   "execution_count": 136,
   "metadata": {},
   "outputs": [],
   "source": [
    "def make_pca_fit(df):\n",
    "    \n",
    "    local_df = df.copy()\n",
    "    local_df = local_df.astype(np.float64)\n",
    "    del local_df['user_id']\n",
    "    \n",
    "    pca_model = PCA(n_components=5)\n",
    "    pca_model.fit(local_df)\n",
    "    return pca_model    \n",
    "\n",
    "def difference(pca_fitted, vector_one, vector_two):\n",
    "    \n",
    "#     vector_one_o = vector_one.copy()\n",
    "#     vector_two_o = vector_two.copy()\n",
    "#     if isinstance(vector_one, pd.DataFrame):\n",
    "#         del vector_one_o['user_id']\n",
    "#         del vector_two_o['user_id']\n",
    "        \n",
    "    print len(vector_one), len(vector_two)\n",
    "    vector_one_pca = pca_fitted.transform(vector_one)\n",
    "    print vector_one_pca.shape\n",
    "    vector_two_pca = pca_fitted.transform(vector_two)\n",
    "    print vector_one_pca, vector_two_pca\n",
    "    \n",
    "    return np.linalg.norm(vector_one_pca - vector_two_pca)"
   ]
  },
  {
   "cell_type": "code",
   "execution_count": 137,
   "metadata": {
    "collapsed": true
   },
   "outputs": [],
   "source": [
    "pca_fitted = make_pca_fit(df)"
   ]
  },
  {
   "cell_type": "code",
   "execution_count": 133,
   "metadata": {},
   "outputs": [],
   "source": [
    "# list(df[df['user_id'] == '28716273'].astype(float).as_matrix()[0])[1:]"
   ]
  },
  {
   "cell_type": "code",
   "execution_count": 138,
   "metadata": {},
   "outputs": [
    {
     "name": "stdout",
     "output_type": "stream",
     "text": [
      "378 378\n",
      "(1, 5)\n",
      "[[ -1.40936771e+08  -2.32363742e+04  -8.00793507e+04  -8.64965742e-01\n",
      "   -4.21056453e-01]] [[  1.19357689e+08  -2.00695743e+04   9.50458481e+05  -1.18062120e+00\n",
      "   -7.05748650e-01]]\n",
      "CPU times: user 16 ms, sys: 4 ms, total: 20 ms\n",
      "Wall time: 19 ms\n"
     ]
    },
    {
     "name": "stderr",
     "output_type": "stream",
     "text": [
      "/usr/local/lib/python2.7/dist-packages/sklearn/utils/validation.py:395: DeprecationWarning: Passing 1d arrays as data is deprecated in 0.17 and will raise ValueError in 0.19. Reshape your data either using X.reshape(-1, 1) if your data has a single feature or X.reshape(1, -1) if it contains a single sample.\n",
      "  DeprecationWarning)\n",
      "/usr/local/lib/python2.7/dist-packages/sklearn/utils/validation.py:395: DeprecationWarning: Passing 1d arrays as data is deprecated in 0.17 and will raise ValueError in 0.19. Reshape your data either using X.reshape(-1, 1) if your data has a single feature or X.reshape(1, -1) if it contains a single sample.\n",
      "  DeprecationWarning)\n"
     ]
    },
    {
     "data": {
      "text/plain": [
       "260296500.28680065"
      ]
     },
     "execution_count": 138,
     "metadata": {},
     "output_type": "execute_result"
    }
   ],
   "source": [
    "%%time\n",
    "difference(\n",
    "    pca_fitted,\n",
    "    list(df[df['user_id'] == '2190273'].astype(float).as_matrix()[0])[1:], \n",
    "    list(df[df['user_id'] == '28716273'].astype(float).as_matrix()[0])[1:]\n",
    ")"
   ]
  },
  {
   "cell_type": "code",
   "execution_count": null,
   "metadata": {
    "collapsed": true
   },
   "outputs": [],
   "source": []
  }
 ],
 "metadata": {
  "kernelspec": {
   "display_name": "Python 2",
   "language": "python",
   "name": "python2"
  },
  "language_info": {
   "codemirror_mode": {
    "name": "ipython",
    "version": 2
   },
   "file_extension": ".py",
   "mimetype": "text/x-python",
   "name": "python",
   "nbconvert_exporter": "python",
   "pygments_lexer": "ipython2",
   "version": "2.7.12"
  }
 },
 "nbformat": 4,
 "nbformat_minor": 2
}
