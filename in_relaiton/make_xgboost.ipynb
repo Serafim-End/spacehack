{
 "cells": [
  {
   "cell_type": "code",
   "execution_count": 9,
   "metadata": {},
   "outputs": [
    {
     "name": "stdout",
     "output_type": "stream",
     "text": [
      "Populating the interactive namespace from numpy and matplotlib\n"
     ]
    }
   ],
   "source": [
    "import xgboost as xgb\n",
    "\n",
    "import pandas as pd\n",
    "import pickle\n",
    "import numpy as np\n",
    "import math\n",
    "import pymongo\n",
    "\n",
    "%pylab inline\n",
    "pd.set_option('display.mpl_style', 'default')\n",
    "figsize(12, 9)\n",
    "pd.set_option('display.max_columns', None)\n",
    "import matplotlib.pyplot as plt\n",
    "from pymongo import MongoClient, DESCENDING\n",
    "\n",
    "# from pymongo.objectid import ObjectId\n",
    "import bson\n",
    "\n",
    "import os\n",
    "import json"
   ]
  },
  {
   "cell_type": "code",
   "execution_count": 10,
   "metadata": {
    "collapsed": true
   },
   "outputs": [],
   "source": [
    "from bson.objectid import ObjectId"
   ]
  },
  {
   "cell_type": "code",
   "execution_count": 11,
   "metadata": {},
   "outputs": [],
   "source": [
    "client = MongoClient()\n",
    "db = client.dataframe"
   ]
  },
  {
   "cell_type": "code",
   "execution_count": 12,
   "metadata": {},
   "outputs": [],
   "source": [
    "new_embds = []\n",
    "for e in db.short_embeddings.find({}):\n",
    "    for vs in e.values():\n",
    "        if isinstance(vs, ObjectId):\n",
    "            continue\n",
    "        else:\n",
    "            ev = vs\n",
    "    \n",
    "    new_embds.append(ev)"
   ]
  },
  {
   "cell_type": "code",
   "execution_count": 13,
   "metadata": {},
   "outputs": [
    {
     "data": {
      "text/plain": [
       "(122523, 307)"
      ]
     },
     "execution_count": 13,
     "metadata": {},
     "output_type": "execute_result"
    }
   ],
   "source": [
    "new_embds = np.array(new_embds)\n",
    "new_embds.shape"
   ]
  },
  {
   "cell_type": "code",
   "execution_count": 14,
   "metadata": {},
   "outputs": [],
   "source": [
    "columns = range(new_embds.shape[1])\n",
    "columns[6] = 'sex'\n",
    "columns[0] = 'user_id'"
   ]
  },
  {
   "cell_type": "code",
   "execution_count": 15,
   "metadata": {},
   "outputs": [],
   "source": [
    "df = pd.DataFrame(data=new_embds, columns=columns)"
   ]
  },
  {
   "cell_type": "code",
   "execution_count": 16,
   "metadata": {},
   "outputs": [
    {
     "data": {
      "text/plain": [
       "(122523, 307)"
      ]
     },
     "execution_count": 16,
     "metadata": {},
     "output_type": "execute_result"
    }
   ],
   "source": [
    "df.shape"
   ]
  },
  {
   "cell_type": "code",
   "execution_count": null,
   "metadata": {},
   "outputs": [],
   "source": []
  },
  {
   "cell_type": "code",
   "execution_count": null,
   "metadata": {},
   "outputs": [],
   "source": []
  },
  {
   "cell_type": "code",
   "execution_count": 17,
   "metadata": {},
   "outputs": [],
   "source": [
    "from in_relation import make_model_upd"
   ]
  },
  {
   "cell_type": "code",
   "execution_count": 20,
   "metadata": {
    "collapsed": true
   },
   "outputs": [],
   "source": [
    "params = {\n",
    "    'bst:max_depth':3,\n",
    "    'bst:eta':1,\n",
    "    'gamma': 1.,\n",
    "    'scale_pos_weight':0.7,\n",
    "    'lambda': 1.,\n",
    "    'alpha':2.,\n",
    "    'booster': 'dart',\n",
    "    'objective':'binary:logistic' \n",
    "}"
   ]
  },
  {
   "cell_type": "code",
   "execution_count": 21,
   "metadata": {},
   "outputs": [
    {
     "name": "stdout",
     "output_type": "stream",
     "text": [
      "[0]\teval-auc:0.639751\ttrain-auc:0.655569\n",
      "[1]\teval-auc:0.684471\ttrain-auc:0.692261\n",
      "[2]\teval-auc:0.684578\ttrain-auc:0.692997\n",
      "[3]\teval-auc:0.695908\ttrain-auc:0.704494\n",
      "[4]\teval-auc:0.698224\ttrain-auc:0.707964\n",
      "[5]\teval-auc:0.698756\ttrain-auc:0.709037\n",
      "[6]\teval-auc:0.699305\ttrain-auc:0.709527\n",
      "[7]\teval-auc:0.705582\ttrain-auc:0.714775\n",
      "[8]\teval-auc:0.705895\ttrain-auc:0.7151\n",
      "[9]\teval-auc:0.709214\ttrain-auc:0.720744\n",
      "[10]\teval-auc:0.713582\ttrain-auc:0.7249\n",
      "[11]\teval-auc:0.715188\ttrain-auc:0.726241\n",
      "[12]\teval-auc:0.714932\ttrain-auc:0.727551\n",
      "[13]\teval-auc:0.714526\ttrain-auc:0.72723\n",
      "[14]\teval-auc:0.716588\ttrain-auc:0.728616\n",
      "[15]\teval-auc:0.7186\ttrain-auc:0.730454\n",
      "[16]\teval-auc:0.718164\ttrain-auc:0.73068\n",
      "[17]\teval-auc:0.720054\ttrain-auc:0.733888\n",
      "[18]\teval-auc:0.721041\ttrain-auc:0.735339\n",
      "[19]\teval-auc:0.721139\ttrain-auc:0.736524\n",
      "[20]\teval-auc:0.721026\ttrain-auc:0.736699\n",
      "[21]\teval-auc:0.720819\ttrain-auc:0.736911\n",
      "[22]\teval-auc:0.720978\ttrain-auc:0.737099\n",
      "[23]\teval-auc:0.721464\ttrain-auc:0.738496\n",
      "[24]\teval-auc:0.721191\ttrain-auc:0.739742\n",
      "[25]\teval-auc:0.720893\ttrain-auc:0.73994\n",
      "[26]\teval-auc:0.720423\ttrain-auc:0.740318\n",
      "[27]\teval-auc:0.719325\ttrain-auc:0.740717\n",
      "[28]\teval-auc:0.718425\ttrain-auc:0.740893\n",
      "[29]\teval-auc:0.718061\ttrain-auc:0.741037\n",
      "CPU times: user 1min 8s, sys: 4.64 s, total: 1min 12s\n",
      "Wall time: 33.9 s\n"
     ]
    }
   ],
   "source": [
    "%%time\n",
    "make_model_upd(df, fname='kekek.model', params=params)"
   ]
  },
  {
   "cell_type": "code",
   "execution_count": 22,
   "metadata": {},
   "outputs": [],
   "source": [
    "# xgb.plot_importance(bst)"
   ]
  },
  {
   "cell_type": "code",
   "execution_count": 23,
   "metadata": {
    "collapsed": true
   },
   "outputs": [],
   "source": [
    "from in_relation import make_prediction"
   ]
  },
  {
   "cell_type": "code",
   "execution_count": 24,
   "metadata": {
    "collapsed": true
   },
   "outputs": [],
   "source": [
    "db_users_and_features = client['users_and_features']\n",
    "posts = db_users_and_features.posts"
   ]
  },
  {
   "cell_type": "code",
   "execution_count": 25,
   "metadata": {},
   "outputs": [],
   "source": [
    "\n",
    "embd = posts.find_one({'active_search_score': 1})['profile_embedding']\n",
    "del embd[6]\n",
    "# columns = [str(e) for e in range(len(embd))]\n",
    "# columns[6] = 'sex'\n",
    "# test = pd.DataFrame([embd], columns=columns)"
   ]
  },
  {
   "cell_type": "code",
   "execution_count": 28,
   "metadata": {},
   "outputs": [],
   "source": [
    "# test.shape"
   ]
  },
  {
   "cell_type": "code",
   "execution_count": 30,
   "metadata": {},
   "outputs": [
    {
     "data": {
      "text/plain": [
       "0.28959474"
      ]
     },
     "execution_count": 30,
     "metadata": {},
     "output_type": "execute_result"
    }
   ],
   "source": [
    "# df_copy = test.copy()\n",
    "\n",
    "bst_loaded = xgb.Booster({'nthread': 24}) # init model\n",
    "bst_loaded.load_model('kekek.model') # load data\n",
    "    \n",
    "# if 'sex' in df_copy:\n",
    "#     del df_copy['sex']\n",
    "\n",
    "test_xgb = xgb.DMatrix([embd])\n",
    "bst_loaded.predict(test_xgb)[0]\n"
   ]
  },
  {
   "cell_type": "code",
   "execution_count": 31,
   "metadata": {},
   "outputs": [],
   "source": [
    "# test = make_prediction(test, fname='kekek.model')"
   ]
  },
  {
   "cell_type": "code",
   "execution_count": 32,
   "metadata": {
    "collapsed": true
   },
   "outputs": [],
   "source": [
    "bst_loaded = xgb.Booster({'nthread': 24}) # init model\n",
    "bst_loaded.load_model('kekek.model') # load data"
   ]
  },
  {
   "cell_type": "code",
   "execution_count": 35,
   "metadata": {},
   "outputs": [
    {
     "name": "stderr",
     "output_type": "stream",
     "text": [
      "/usr/local/lib/python2.7/dist-packages/ipykernel_launcher.py:5: DeprecationWarning: update is deprecated. Use replace_one, update_one or update_many instead.\n",
      "  \"\"\"\n"
     ]
    }
   ],
   "source": [
    "for e in posts.find({'active_search_score': 1}):    \n",
    "    d = xgb.DMatrix([e['profile_embedding']])\n",
    "    posts.update(\n",
    "        { u'_id': e[u'_id'] },\n",
    "        { '$set': { 'active_search_score': str(bst_loaded.predict(d)[0]) } }\n",
    "    )"
   ]
  },
  {
   "cell_type": "code",
   "execution_count": null,
   "metadata": {
    "collapsed": true
   },
   "outputs": [],
   "source": []
  }
 ],
 "metadata": {
  "kernelspec": {
   "display_name": "Python 2",
   "language": "python",
   "name": "python2"
  },
  "language_info": {
   "codemirror_mode": {
    "name": "ipython",
    "version": 2
   },
   "file_extension": ".py",
   "mimetype": "text/x-python",
   "name": "python",
   "nbconvert_exporter": "python",
   "pygments_lexer": "ipython2",
   "version": "2.7.12"
  }
 },
 "nbformat": 4,
 "nbformat_minor": 2
}
