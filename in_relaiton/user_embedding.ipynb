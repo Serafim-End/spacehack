{
 "cells": [
  {
   "cell_type": "code",
   "execution_count": 1,
   "metadata": {},
   "outputs": [],
   "source": [
    "import cPickle\n",
    "\n",
    "from sklearn.decomposition import PCA\n"
   ]
  },
  {
   "cell_type": "code",
   "execution_count": 2,
   "metadata": {},
   "outputs": [],
   "source": [
    "# load it again\n",
    "with open('pca_model.pkl', 'rb') as fid:\n",
    "    pca_model = cPickle.load(fid)"
   ]
  },
  {
   "cell_type": "code",
   "execution_count": 4,
   "metadata": {},
   "outputs": [],
   "source": [
    "def get_main_ohe(basics):\n",
    "\n",
    "    v = []\n",
    "    \n",
    "    v.append(basics['id'])\n",
    "\n",
    "        \n",
    "    v.append(basics['sex'])\n",
    "    \n",
    "    city = basics['city']['id'] if 'city' in basics else -1\n",
    "    v.append(city)\n",
    "\n",
    "    country = basics['country']['id'] if 'country' in basics else -1\n",
    "    v.append(country)\n",
    "    \n",
    "    photo = 1 if 'photo' in basics else 0\n",
    "    v.append(photo)\n",
    "    \n",
    "    try:\n",
    "        birthdate = (time.mktime(datetime.strptime(basics['bdate'], '%d.%m.%Y').timetuple())\n",
    "                     if 'bdate' in basics else 788907600.0)\n",
    "    except: \n",
    "        birthdate = 788907600.0\n",
    "    v.append(birthdate)\n",
    "    relation = basics['relation'] if 'relation' in basics else -1\n",
    "    v.append(relation)\n",
    "    \n",
    "    university = basics['university'] if 'university' in basics else -1\n",
    "    \n",
    "    if 'about' in basics:\n",
    "        transf = w2v_transformation([basics['about']], w2v)\n",
    "        if transf is not None and len(transf) > 0:\n",
    "            about = transf[0]\n",
    "        else:\n",
    "            about = np.zeros(300)\n",
    "    else:\n",
    "        about = np.zeros(300)\n",
    "                \n",
    "    v += list(about)\n",
    "    return v"
   ]
  },
  {
   "cell_type": "code",
   "execution_count": 5,
   "metadata": {},
   "outputs": [],
   "source": [
    "def get_basic_info(uid):\n",
    "    import vk_api\n",
    "    vk_session = vk_api.VkApi(token='a74844d7722277b716bbd4037e1c0480a0a5f568fe3f9a356564f0b5d8f33b677bf47db9b4d201cb428cc',\n",
    "                                            app_id='6008096', client_secret='YBDSuGrvsC8vccTlenk8')\n",
    "    vk_session.auth()\n",
    "    tools = vk_api.VkTools(vk_session)\n",
    "    FIELDS = 'user_id,first_name,last_name,deactivated,verified,blacklisted,sex,bdate,city,country,home_town,photo_50,photo_100,photo_200_orig,photo_200,photo_400_orig,photo_max,photo_max_orig,lists,domain,has_mobile,contacts,site,education,universities,schools,status,last_seen,followers_count,common_count,counters,occupation,nickname,relatives,relation,personal,connections,exports,wall_comments,activities,interests,music,movies,tv,books,games,about,quotes,timezone'\n",
    "    user_data = vk_session.method('users.get', {'user_ids': uid, 'fields': FIELDS})[0]\n",
    "    return user_data"
   ]
  },
  {
   "cell_type": "code",
   "execution_count": 6,
   "metadata": {
    "collapsed": true
   },
   "outputs": [],
   "source": [
    "def prepare_vector(uid):\n",
    "    basic = get_basic_info(uid)\n",
    "#     print basic\n",
    "    profile_embedding = get_main_ohe(basic)\n",
    "    interests_vector = list(pca_model.transform(profile_embedding)[0]) \n",
    "    return interests_vector"
   ]
  },
  {
   "cell_type": "code",
   "execution_count": null,
   "metadata": {
    "collapsed": true
   },
   "outputs": [],
   "source": [
    "[(1 if e > 0 else -1 ) e for e in array]"
   ]
  },
  {
   "cell_type": "code",
   "execution_count": 7,
   "metadata": {},
   "outputs": [
    {
     "ename": "NameError",
     "evalue": "global name 'w2v_transformation' is not defined",
     "output_type": "error",
     "traceback": [
      "\u001b[0;31m---------------------------------------------------------------------------\u001b[0m",
      "\u001b[0;31mNameError\u001b[0m                                 Traceback (most recent call last)",
      "\u001b[0;32m<ipython-input-7-d62be6bbf717>\u001b[0m in \u001b[0;36m<module>\u001b[0;34m()\u001b[0m\n\u001b[0;32m----> 1\u001b[0;31m \u001b[0mprepare_vector\u001b[0m\u001b[0;34m(\u001b[0m\u001b[0;36m27679261\u001b[0m\u001b[0;34m)\u001b[0m\u001b[0;34m\u001b[0m\u001b[0m\n\u001b[0m",
      "\u001b[0;32m<ipython-input-6-7b8ec2db6ddf>\u001b[0m in \u001b[0;36mprepare_vector\u001b[0;34m(uid)\u001b[0m\n\u001b[1;32m      2\u001b[0m     \u001b[0mbasic\u001b[0m \u001b[0;34m=\u001b[0m \u001b[0mget_basic_info\u001b[0m\u001b[0;34m(\u001b[0m\u001b[0muid\u001b[0m\u001b[0;34m)\u001b[0m\u001b[0;34m\u001b[0m\u001b[0m\n\u001b[1;32m      3\u001b[0m \u001b[0;31m#     print basic\u001b[0m\u001b[0;34m\u001b[0m\u001b[0;34m\u001b[0m\u001b[0m\n\u001b[0;32m----> 4\u001b[0;31m     \u001b[0mprofile_embedding\u001b[0m \u001b[0;34m=\u001b[0m \u001b[0mget_main_ohe\u001b[0m\u001b[0;34m(\u001b[0m\u001b[0mbasic\u001b[0m\u001b[0;34m)\u001b[0m\u001b[0;34m\u001b[0m\u001b[0m\n\u001b[0m\u001b[1;32m      5\u001b[0m     \u001b[0minterests_vector\u001b[0m \u001b[0;34m=\u001b[0m \u001b[0mlist\u001b[0m\u001b[0;34m(\u001b[0m\u001b[0mpca_model\u001b[0m\u001b[0;34m.\u001b[0m\u001b[0mtransform\u001b[0m\u001b[0;34m(\u001b[0m\u001b[0mprofile_embedding\u001b[0m\u001b[0;34m)\u001b[0m\u001b[0;34m[\u001b[0m\u001b[0;36m0\u001b[0m\u001b[0;34m]\u001b[0m\u001b[0;34m)\u001b[0m\u001b[0;34m\u001b[0m\u001b[0m\n\u001b[1;32m      6\u001b[0m     \u001b[0;32mreturn\u001b[0m \u001b[0minterests_vector\u001b[0m\u001b[0;34m\u001b[0m\u001b[0m\n",
      "\u001b[0;32m<ipython-input-4-af657bda0d58>\u001b[0m in \u001b[0;36mget_main_ohe\u001b[0;34m(basics)\u001b[0m\n\u001b[1;32m     29\u001b[0m \u001b[0;34m\u001b[0m\u001b[0m\n\u001b[1;32m     30\u001b[0m     \u001b[0;32mif\u001b[0m \u001b[0;34m'about'\u001b[0m \u001b[0;32min\u001b[0m \u001b[0mbasics\u001b[0m\u001b[0;34m:\u001b[0m\u001b[0;34m\u001b[0m\u001b[0m\n\u001b[0;32m---> 31\u001b[0;31m         \u001b[0mtransf\u001b[0m \u001b[0;34m=\u001b[0m \u001b[0mw2v_transformation\u001b[0m\u001b[0;34m(\u001b[0m\u001b[0;34m[\u001b[0m\u001b[0mbasics\u001b[0m\u001b[0;34m[\u001b[0m\u001b[0;34m'about'\u001b[0m\u001b[0;34m]\u001b[0m\u001b[0;34m]\u001b[0m\u001b[0;34m,\u001b[0m \u001b[0mw2v\u001b[0m\u001b[0;34m)\u001b[0m\u001b[0;34m\u001b[0m\u001b[0m\n\u001b[0m\u001b[1;32m     32\u001b[0m         \u001b[0;32mif\u001b[0m \u001b[0mtransf\u001b[0m \u001b[0;32mis\u001b[0m \u001b[0;32mnot\u001b[0m \u001b[0mNone\u001b[0m \u001b[0;32mand\u001b[0m \u001b[0mlen\u001b[0m\u001b[0;34m(\u001b[0m\u001b[0mtransf\u001b[0m\u001b[0;34m)\u001b[0m \u001b[0;34m>\u001b[0m \u001b[0;36m0\u001b[0m\u001b[0;34m:\u001b[0m\u001b[0;34m\u001b[0m\u001b[0m\n\u001b[1;32m     33\u001b[0m             \u001b[0mabout\u001b[0m \u001b[0;34m=\u001b[0m \u001b[0mtransf\u001b[0m\u001b[0;34m[\u001b[0m\u001b[0;36m0\u001b[0m\u001b[0;34m]\u001b[0m\u001b[0;34m\u001b[0m\u001b[0m\n",
      "\u001b[0;31mNameError\u001b[0m: global name 'w2v_transformation' is not defined"
     ]
    }
   ],
   "source": [
    "prepare_vector(27679261)"
   ]
  },
  {
   "cell_type": "code",
   "execution_count": 9,
   "metadata": {},
   "outputs": [],
   "source": [
    "from events import prepare_vector"
   ]
  },
  {
   "cell_type": "code",
   "execution_count": 10,
   "metadata": {},
   "outputs": [
    {
     "name": "stderr",
     "output_type": "stream",
     "text": [
      "/usr/local/lib/python2.7/dist-packages/sklearn/utils/validation.py:395: DeprecationWarning: Passing 1d arrays as data is deprecated in 0.17 and will raise ValueError in 0.19. Reshape your data either using X.reshape(-1, 1) if your data has a single feature or X.reshape(1, -1) if it contains a single sample.\n",
      "  DeprecationWarning)\n"
     ]
    },
    {
     "data": {
      "text/plain": [
       "[-103256147.54360321,\n",
       " -22851646.044599012,\n",
       " -10232.500701898809,\n",
       " -97768.329005927721,\n",
       " -0.0091033375022465477]"
      ]
     },
     "execution_count": 10,
     "metadata": {},
     "output_type": "execute_result"
    }
   ],
   "source": [
    "prepare_vector(27679261)"
   ]
  },
  {
   "cell_type": "code",
   "execution_count": null,
   "metadata": {
    "collapsed": true
   },
   "outputs": [],
   "source": []
  }
 ],
 "metadata": {
  "kernelspec": {
   "display_name": "Python 2",
   "language": "python",
   "name": "python2"
  },
  "language_info": {
   "codemirror_mode": {
    "name": "ipython",
    "version": 2
   },
   "file_extension": ".py",
   "mimetype": "text/x-python",
   "name": "python",
   "nbconvert_exporter": "python",
   "pygments_lexer": "ipython2",
   "version": "2.7.12"
  }
 },
 "nbformat": 4,
 "nbformat_minor": 2
}
