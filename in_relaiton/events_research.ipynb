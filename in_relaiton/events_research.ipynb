{
 "cells": [
  {
   "cell_type": "code",
   "execution_count": 1,
   "metadata": {
    "collapsed": true
   },
   "outputs": [],
   "source": [
    "# coding: utf-8\n",
    "\n",
    "import numpy as np\n",
    "import pandas as pd"
   ]
  },
  {
   "cell_type": "code",
   "execution_count": 5,
   "metadata": {
    "collapsed": true
   },
   "outputs": [],
   "source": [
    "interests = \"\"\"\n",
    "Интересы\n",
    "Коты\n",
    "SMM\n",
    "Diy\n",
    "Дети - мамы\n",
    "Кулинария\n",
    "Футбол\n",
    "Психология\n",
    "Geek\n",
    "Гороскоп\n",
    "Програмирование\n",
    "Двач\n",
    "Юмор\n",
    "Православие\n",
    "Концерты\n",
    "Рок\n",
    "Знакомства\n",
    "Instagram\n",
    "Егэ\n",
    "Дизайн\n",
    "Мемы\n",
    "Будизм\n",
    "Философия\n",
    "Карьера\n",
    "Иностранные языки\n",
    "Gamer\n",
    "Наука\n",
    "Бизнес\n",
    "Эстетика\n",
    "Литература\n",
    "Музыка\n",
    "Фриланс\n",
    "Web дизайн\n",
    "Саморазвитие\n",
    "Недвижимость\n",
    "Татуировки\n",
    "Фотография\n",
    "Хоккей\n",
    "Выставки\n",
    "Анимэ\n",
    "Рэп\n",
    "Поиск работы\n",
    "Любовь\n",
    "Зож\n",
    "Бесплатно, конкурсы\n",
    "Собаки\n",
    "Порно\n",
    "Патриоты\n",
    "Dance music\n",
    "Автомобили\n",
    "Путешествия\n",
    "Интерьеры\n",
    "Медицина\n",
    "Data Science\n",
    "Правильное питание\n",
    "Уют\n",
    "Стартап\n",
    "Новости\n",
    "Реклама и маркетинг\n",
    "Hipster\n",
    "Математика\n",
    "Политика\n",
    "Национализм\n",
    "Технологии\n",
    "Мусульманин\n",
    "Медитации\n",
    "Искусство\n",
    "Архитектура\n",
    "Секс\n",
    "Эзотерика\n",
    "Фитнес\n",
    "Цитаты\n",
    "\"\"\"\n",
    "\n",
    "mapping_interests = {}\n",
    "for i, e in enumerate(interests.split('\\n')):\n",
    "    if e:\n",
    "        mapping_interests[e.strip()] = i - 1"
   ]
  },
  {
   "cell_type": "code",
   "execution_count": 7,
   "metadata": {},
   "outputs": [],
   "source": [
    "# mapping_interests"
   ]
  },
  {
   "cell_type": "code",
   "execution_count": 8,
   "metadata": {},
   "outputs": [
    {
     "data": {
      "text/plain": [
       "0.99999999999999978"
      ]
     },
     "execution_count": 8,
     "metadata": {},
     "output_type": "execute_result"
    }
   ],
   "source": [
    "a = [1, 0, 0, 0, 0.5]\n",
    "b = [0, 4., 0, 9., 0.7]\n",
    "\n",
    "np.dot(a, a) / (np.linalg.norm(a) * np.linalg.norm(a))\n"
   ]
  },
  {
   "cell_type": "code",
   "execution_count": null,
   "metadata": {
    "collapsed": true
   },
   "outputs": [],
   "source": [
    "http://138.201.80.213:5005/get_user_info?uid={}&fields=interests\n",
    "http://138.201.80.213:5005/get_user_info?uid={}&fields=interests\n",
    "        \n",
    "        "
   ]
  },
  {
   "cell_type": "code",
   "execution_count": 9,
   "metadata": {
    "collapsed": true
   },
   "outputs": [],
   "source": [
    "def get_datafuel(uid1):\n",
    "    \n",
    "    try:\n",
    "        raw = urllib2.urlopen(\n",
    "            'http://138.201.80.213:5005/get_user_info?uid={}&fields=interests'.format(uid)\n",
    "        )\n",
    "        a = np.zeros(len(mapping_interests))\n",
    "        interests = json.load(raw)['interests']\n",
    "        for e in interests:\n",
    "            e = e.encode('utf-8')\n",
    "            a[mapping_interests[e]] = 1\n",
    "        return a, interests\n",
    "    except Exception as e:\n",
    "        return np.zeros(len(mapping_interests)), []"
   ]
  },
  {
   "cell_type": "code",
   "execution_count": 10,
   "metadata": {
    "collapsed": true
   },
   "outputs": [],
   "source": [
    "def get_two_similarity(one, two):\n",
    "    pass"
   ]
  },
  {
   "cell_type": "code",
   "execution_count": null,
   "metadata": {
    "collapsed": true
   },
   "outputs": [],
   "source": []
  }
 ],
 "metadata": {
  "kernelspec": {
   "display_name": "Python 2",
   "language": "python",
   "name": "python2"
  },
  "language_info": {
   "codemirror_mode": {
    "name": "ipython",
    "version": 2
   },
   "file_extension": ".py",
   "mimetype": "text/x-python",
   "name": "python",
   "nbconvert_exporter": "python",
   "pygments_lexer": "ipython2",
   "version": "2.7.12"
  }
 },
 "nbformat": 4,
 "nbformat_minor": 2
}
